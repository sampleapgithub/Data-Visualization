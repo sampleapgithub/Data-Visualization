{
  "cells": [
    {
      "cell_type": "code",
      "execution_count": null,
      "metadata": {
        "id": "No-bPUcj8ET_"
      },
      "outputs": [],
      "source": [
        "import matplotlib.pyplot as plt\n",
        "import pandas as pd\n",
        "import numpy as np\n",
        "import seaborn as sns"
      ]
    },
    {
      "cell_type": "code",
      "execution_count": null,
      "metadata": {
        "colab": {
          "base_uri": "https://localhost:8080/",
          "height": 73
        },
        "id": "SfiSZXFC8X_j",
        "outputId": "26ad0d39-d7a8-48f9-c97c-2389f5f29ff2"
      },
      "outputs": [
        {
          "output_type": "display_data",
          "data": {
            "text/plain": [
              "<IPython.core.display.HTML object>"
            ],
            "text/html": [
              "\n",
              "     <input type=\"file\" id=\"files-698b55d2-3f23-40e7-904e-c5218ab50b3e\" name=\"files[]\" multiple disabled\n",
              "        style=\"border:none\" />\n",
              "     <output id=\"result-698b55d2-3f23-40e7-904e-c5218ab50b3e\">\n",
              "      Upload widget is only available when the cell has been executed in the\n",
              "      current browser session. Please rerun this cell to enable.\n",
              "      </output>\n",
              "      <script>// Copyright 2017 Google LLC\n",
              "//\n",
              "// Licensed under the Apache License, Version 2.0 (the \"License\");\n",
              "// you may not use this file except in compliance with the License.\n",
              "// You may obtain a copy of the License at\n",
              "//\n",
              "//      http://www.apache.org/licenses/LICENSE-2.0\n",
              "//\n",
              "// Unless required by applicable law or agreed to in writing, software\n",
              "// distributed under the License is distributed on an \"AS IS\" BASIS,\n",
              "// WITHOUT WARRANTIES OR CONDITIONS OF ANY KIND, either express or implied.\n",
              "// See the License for the specific language governing permissions and\n",
              "// limitations under the License.\n",
              "\n",
              "/**\n",
              " * @fileoverview Helpers for google.colab Python module.\n",
              " */\n",
              "(function(scope) {\n",
              "function span(text, styleAttributes = {}) {\n",
              "  const element = document.createElement('span');\n",
              "  element.textContent = text;\n",
              "  for (const key of Object.keys(styleAttributes)) {\n",
              "    element.style[key] = styleAttributes[key];\n",
              "  }\n",
              "  return element;\n",
              "}\n",
              "\n",
              "// Max number of bytes which will be uploaded at a time.\n",
              "const MAX_PAYLOAD_SIZE = 100 * 1024;\n",
              "\n",
              "function _uploadFiles(inputId, outputId) {\n",
              "  const steps = uploadFilesStep(inputId, outputId);\n",
              "  const outputElement = document.getElementById(outputId);\n",
              "  // Cache steps on the outputElement to make it available for the next call\n",
              "  // to uploadFilesContinue from Python.\n",
              "  outputElement.steps = steps;\n",
              "\n",
              "  return _uploadFilesContinue(outputId);\n",
              "}\n",
              "\n",
              "// This is roughly an async generator (not supported in the browser yet),\n",
              "// where there are multiple asynchronous steps and the Python side is going\n",
              "// to poll for completion of each step.\n",
              "// This uses a Promise to block the python side on completion of each step,\n",
              "// then passes the result of the previous step as the input to the next step.\n",
              "function _uploadFilesContinue(outputId) {\n",
              "  const outputElement = document.getElementById(outputId);\n",
              "  const steps = outputElement.steps;\n",
              "\n",
              "  const next = steps.next(outputElement.lastPromiseValue);\n",
              "  return Promise.resolve(next.value.promise).then((value) => {\n",
              "    // Cache the last promise value to make it available to the next\n",
              "    // step of the generator.\n",
              "    outputElement.lastPromiseValue = value;\n",
              "    return next.value.response;\n",
              "  });\n",
              "}\n",
              "\n",
              "/**\n",
              " * Generator function which is called between each async step of the upload\n",
              " * process.\n",
              " * @param {string} inputId Element ID of the input file picker element.\n",
              " * @param {string} outputId Element ID of the output display.\n",
              " * @return {!Iterable<!Object>} Iterable of next steps.\n",
              " */\n",
              "function* uploadFilesStep(inputId, outputId) {\n",
              "  const inputElement = document.getElementById(inputId);\n",
              "  inputElement.disabled = false;\n",
              "\n",
              "  const outputElement = document.getElementById(outputId);\n",
              "  outputElement.innerHTML = '';\n",
              "\n",
              "  const pickedPromise = new Promise((resolve) => {\n",
              "    inputElement.addEventListener('change', (e) => {\n",
              "      resolve(e.target.files);\n",
              "    });\n",
              "  });\n",
              "\n",
              "  const cancel = document.createElement('button');\n",
              "  inputElement.parentElement.appendChild(cancel);\n",
              "  cancel.textContent = 'Cancel upload';\n",
              "  const cancelPromise = new Promise((resolve) => {\n",
              "    cancel.onclick = () => {\n",
              "      resolve(null);\n",
              "    };\n",
              "  });\n",
              "\n",
              "  // Wait for the user to pick the files.\n",
              "  const files = yield {\n",
              "    promise: Promise.race([pickedPromise, cancelPromise]),\n",
              "    response: {\n",
              "      action: 'starting',\n",
              "    }\n",
              "  };\n",
              "\n",
              "  cancel.remove();\n",
              "\n",
              "  // Disable the input element since further picks are not allowed.\n",
              "  inputElement.disabled = true;\n",
              "\n",
              "  if (!files) {\n",
              "    return {\n",
              "      response: {\n",
              "        action: 'complete',\n",
              "      }\n",
              "    };\n",
              "  }\n",
              "\n",
              "  for (const file of files) {\n",
              "    const li = document.createElement('li');\n",
              "    li.append(span(file.name, {fontWeight: 'bold'}));\n",
              "    li.append(span(\n",
              "        `(${file.type || 'n/a'}) - ${file.size} bytes, ` +\n",
              "        `last modified: ${\n",
              "            file.lastModifiedDate ? file.lastModifiedDate.toLocaleDateString() :\n",
              "                                    'n/a'} - `));\n",
              "    const percent = span('0% done');\n",
              "    li.appendChild(percent);\n",
              "\n",
              "    outputElement.appendChild(li);\n",
              "\n",
              "    const fileDataPromise = new Promise((resolve) => {\n",
              "      const reader = new FileReader();\n",
              "      reader.onload = (e) => {\n",
              "        resolve(e.target.result);\n",
              "      };\n",
              "      reader.readAsArrayBuffer(file);\n",
              "    });\n",
              "    // Wait for the data to be ready.\n",
              "    let fileData = yield {\n",
              "      promise: fileDataPromise,\n",
              "      response: {\n",
              "        action: 'continue',\n",
              "      }\n",
              "    };\n",
              "\n",
              "    // Use a chunked sending to avoid message size limits. See b/62115660.\n",
              "    let position = 0;\n",
              "    do {\n",
              "      const length = Math.min(fileData.byteLength - position, MAX_PAYLOAD_SIZE);\n",
              "      const chunk = new Uint8Array(fileData, position, length);\n",
              "      position += length;\n",
              "\n",
              "      const base64 = btoa(String.fromCharCode.apply(null, chunk));\n",
              "      yield {\n",
              "        response: {\n",
              "          action: 'append',\n",
              "          file: file.name,\n",
              "          data: base64,\n",
              "        },\n",
              "      };\n",
              "\n",
              "      let percentDone = fileData.byteLength === 0 ?\n",
              "          100 :\n",
              "          Math.round((position / fileData.byteLength) * 100);\n",
              "      percent.textContent = `${percentDone}% done`;\n",
              "\n",
              "    } while (position < fileData.byteLength);\n",
              "  }\n",
              "\n",
              "  // All done.\n",
              "  yield {\n",
              "    response: {\n",
              "      action: 'complete',\n",
              "    }\n",
              "  };\n",
              "}\n",
              "\n",
              "scope.google = scope.google || {};\n",
              "scope.google.colab = scope.google.colab || {};\n",
              "scope.google.colab._files = {\n",
              "  _uploadFiles,\n",
              "  _uploadFilesContinue,\n",
              "};\n",
              "})(self);\n",
              "</script> "
            ]
          },
          "metadata": {}
        },
        {
          "output_type": "stream",
          "name": "stdout",
          "text": [
            "Saving books.csv to books.csv\n"
          ]
        }
      ],
      "source": [
        "from google.colab import files\n",
        "uploaded=files.upload()"
      ]
    },
    {
      "cell_type": "markdown",
      "metadata": {
        "id": "BTEet22ayYxd"
      },
      "source": [
        "**PANDAS**"
      ]
    },
    {
      "cell_type": "code",
      "execution_count": null,
      "metadata": {
        "colab": {
          "base_uri": "https://localhost:8080/",
          "height": 1000
        },
        "id": "xokuy3GY9FEW",
        "outputId": "835119b2-f022-4b47-a392-3ab9b1d53e6a"
      },
      "outputs": [
        {
          "output_type": "execute_result",
          "data": {
            "text/plain": [
              "       bookID                                              title  \\\n",
              "0           1  Harry Potter and the Half-Blood Prince (Harry ...   \n",
              "1           2  Harry Potter and the Order of the Phoenix (Har...   \n",
              "2           4  Harry Potter and the Chamber of Secrets (Harry...   \n",
              "3           5  Harry Potter and the Prisoner of Azkaban (Harr...   \n",
              "4           8  Harry Potter Boxed Set  Books 1-5 (Harry Potte...   \n",
              "...       ...                                                ...   \n",
              "11122   45631   Expelled from Eden: A William T. Vollmann Reader   \n",
              "11123   45633                        You Bright and Risen Angels   \n",
              "11124   45634                    The Ice-Shirt (Seven Dreams #1)   \n",
              "11125   45639                                        Poor People   \n",
              "11126   45641                        Las aventuras de Tom Sawyer   \n",
              "\n",
              "                                                 authors average_rating  \\\n",
              "0                             J.K. Rowling/Mary GrandPré           4.57   \n",
              "1                             J.K. Rowling/Mary GrandPré           4.49   \n",
              "2                                           J.K. Rowling           4.42   \n",
              "3                             J.K. Rowling/Mary GrandPré           4.56   \n",
              "4                             J.K. Rowling/Mary GrandPré           4.78   \n",
              "...                                                  ...            ...   \n",
              "11122  William T. Vollmann/Larry McCaffery/Michael He...           4.06   \n",
              "11123                                William T. Vollmann           4.08   \n",
              "11124                                William T. Vollmann           3.96   \n",
              "11125                                William T. Vollmann           3.72   \n",
              "11126                                         Mark Twain           3.91   \n",
              "\n",
              "             isbn       isbn13 language_code   num_pages  ratings_count  \\\n",
              "0       439785960  9.78044E+12           eng         652        2095690   \n",
              "1       439358078  9.78044E+12           eng         870        2153167   \n",
              "2       439554896  9.78044E+12           eng         352           6333   \n",
              "3      043965548X  9.78044E+12           eng         435        2339585   \n",
              "4       439682584  9.78044E+12           eng        2690          41428   \n",
              "...           ...          ...           ...         ...            ...   \n",
              "11122  1560254416  9.78156E+12           eng         512            156   \n",
              "11123   140110879  9.78014E+12           eng         635            783   \n",
              "11124   140131965  9.78014E+12           eng         415            820   \n",
              "11125    60878827  9.78006E+12           eng         434            769   \n",
              "11126  8497646983   9.7885E+12           spa         272            113   \n",
              "\n",
              "       text_reviews_count publication_date        publisher Unnamed: 12  \n",
              "0                   27591        9/16/2006  Scholastic Inc.         NaN  \n",
              "1                   29221       09-01-2004  Scholastic Inc.         NaN  \n",
              "2                     244       11-01-2003       Scholastic         NaN  \n",
              "3                   36325       05-01-2004  Scholastic Inc.         NaN  \n",
              "4                     164        9/13/2004       Scholastic         NaN  \n",
              "...                   ...              ...              ...         ...  \n",
              "11122                  20       12/21/2004    Da Capo Press         NaN  \n",
              "11123                  56       12-01-1988    Penguin Books         NaN  \n",
              "11124                  95       08-01-1993    Penguin Books         NaN  \n",
              "11125                 139        2/27/2007             Ecco         NaN  \n",
              "11126                  12        5/28/2006    Edimat Libros         NaN  \n",
              "\n",
              "[11127 rows x 13 columns]"
            ],
            "text/html": [
              "\n",
              "  <div id=\"df-fc42722d-d87e-400c-a6ea-7574eee4b56e\" class=\"colab-df-container\">\n",
              "    <div>\n",
              "<style scoped>\n",
              "    .dataframe tbody tr th:only-of-type {\n",
              "        vertical-align: middle;\n",
              "    }\n",
              "\n",
              "    .dataframe tbody tr th {\n",
              "        vertical-align: top;\n",
              "    }\n",
              "\n",
              "    .dataframe thead th {\n",
              "        text-align: right;\n",
              "    }\n",
              "</style>\n",
              "<table border=\"1\" class=\"dataframe\">\n",
              "  <thead>\n",
              "    <tr style=\"text-align: right;\">\n",
              "      <th></th>\n",
              "      <th>bookID</th>\n",
              "      <th>title</th>\n",
              "      <th>authors</th>\n",
              "      <th>average_rating</th>\n",
              "      <th>isbn</th>\n",
              "      <th>isbn13</th>\n",
              "      <th>language_code</th>\n",
              "      <th>num_pages</th>\n",
              "      <th>ratings_count</th>\n",
              "      <th>text_reviews_count</th>\n",
              "      <th>publication_date</th>\n",
              "      <th>publisher</th>\n",
              "      <th>Unnamed: 12</th>\n",
              "    </tr>\n",
              "  </thead>\n",
              "  <tbody>\n",
              "    <tr>\n",
              "      <th>0</th>\n",
              "      <td>1</td>\n",
              "      <td>Harry Potter and the Half-Blood Prince (Harry ...</td>\n",
              "      <td>J.K. Rowling/Mary GrandPré</td>\n",
              "      <td>4.57</td>\n",
              "      <td>439785960</td>\n",
              "      <td>9.78044E+12</td>\n",
              "      <td>eng</td>\n",
              "      <td>652</td>\n",
              "      <td>2095690</td>\n",
              "      <td>27591</td>\n",
              "      <td>9/16/2006</td>\n",
              "      <td>Scholastic Inc.</td>\n",
              "      <td>NaN</td>\n",
              "    </tr>\n",
              "    <tr>\n",
              "      <th>1</th>\n",
              "      <td>2</td>\n",
              "      <td>Harry Potter and the Order of the Phoenix (Har...</td>\n",
              "      <td>J.K. Rowling/Mary GrandPré</td>\n",
              "      <td>4.49</td>\n",
              "      <td>439358078</td>\n",
              "      <td>9.78044E+12</td>\n",
              "      <td>eng</td>\n",
              "      <td>870</td>\n",
              "      <td>2153167</td>\n",
              "      <td>29221</td>\n",
              "      <td>09-01-2004</td>\n",
              "      <td>Scholastic Inc.</td>\n",
              "      <td>NaN</td>\n",
              "    </tr>\n",
              "    <tr>\n",
              "      <th>2</th>\n",
              "      <td>4</td>\n",
              "      <td>Harry Potter and the Chamber of Secrets (Harry...</td>\n",
              "      <td>J.K. Rowling</td>\n",
              "      <td>4.42</td>\n",
              "      <td>439554896</td>\n",
              "      <td>9.78044E+12</td>\n",
              "      <td>eng</td>\n",
              "      <td>352</td>\n",
              "      <td>6333</td>\n",
              "      <td>244</td>\n",
              "      <td>11-01-2003</td>\n",
              "      <td>Scholastic</td>\n",
              "      <td>NaN</td>\n",
              "    </tr>\n",
              "    <tr>\n",
              "      <th>3</th>\n",
              "      <td>5</td>\n",
              "      <td>Harry Potter and the Prisoner of Azkaban (Harr...</td>\n",
              "      <td>J.K. Rowling/Mary GrandPré</td>\n",
              "      <td>4.56</td>\n",
              "      <td>043965548X</td>\n",
              "      <td>9.78044E+12</td>\n",
              "      <td>eng</td>\n",
              "      <td>435</td>\n",
              "      <td>2339585</td>\n",
              "      <td>36325</td>\n",
              "      <td>05-01-2004</td>\n",
              "      <td>Scholastic Inc.</td>\n",
              "      <td>NaN</td>\n",
              "    </tr>\n",
              "    <tr>\n",
              "      <th>4</th>\n",
              "      <td>8</td>\n",
              "      <td>Harry Potter Boxed Set  Books 1-5 (Harry Potte...</td>\n",
              "      <td>J.K. Rowling/Mary GrandPré</td>\n",
              "      <td>4.78</td>\n",
              "      <td>439682584</td>\n",
              "      <td>9.78044E+12</td>\n",
              "      <td>eng</td>\n",
              "      <td>2690</td>\n",
              "      <td>41428</td>\n",
              "      <td>164</td>\n",
              "      <td>9/13/2004</td>\n",
              "      <td>Scholastic</td>\n",
              "      <td>NaN</td>\n",
              "    </tr>\n",
              "    <tr>\n",
              "      <th>...</th>\n",
              "      <td>...</td>\n",
              "      <td>...</td>\n",
              "      <td>...</td>\n",
              "      <td>...</td>\n",
              "      <td>...</td>\n",
              "      <td>...</td>\n",
              "      <td>...</td>\n",
              "      <td>...</td>\n",
              "      <td>...</td>\n",
              "      <td>...</td>\n",
              "      <td>...</td>\n",
              "      <td>...</td>\n",
              "      <td>...</td>\n",
              "    </tr>\n",
              "    <tr>\n",
              "      <th>11122</th>\n",
              "      <td>45631</td>\n",
              "      <td>Expelled from Eden: A William T. Vollmann Reader</td>\n",
              "      <td>William T. Vollmann/Larry McCaffery/Michael He...</td>\n",
              "      <td>4.06</td>\n",
              "      <td>1560254416</td>\n",
              "      <td>9.78156E+12</td>\n",
              "      <td>eng</td>\n",
              "      <td>512</td>\n",
              "      <td>156</td>\n",
              "      <td>20</td>\n",
              "      <td>12/21/2004</td>\n",
              "      <td>Da Capo Press</td>\n",
              "      <td>NaN</td>\n",
              "    </tr>\n",
              "    <tr>\n",
              "      <th>11123</th>\n",
              "      <td>45633</td>\n",
              "      <td>You Bright and Risen Angels</td>\n",
              "      <td>William T. Vollmann</td>\n",
              "      <td>4.08</td>\n",
              "      <td>140110879</td>\n",
              "      <td>9.78014E+12</td>\n",
              "      <td>eng</td>\n",
              "      <td>635</td>\n",
              "      <td>783</td>\n",
              "      <td>56</td>\n",
              "      <td>12-01-1988</td>\n",
              "      <td>Penguin Books</td>\n",
              "      <td>NaN</td>\n",
              "    </tr>\n",
              "    <tr>\n",
              "      <th>11124</th>\n",
              "      <td>45634</td>\n",
              "      <td>The Ice-Shirt (Seven Dreams #1)</td>\n",
              "      <td>William T. Vollmann</td>\n",
              "      <td>3.96</td>\n",
              "      <td>140131965</td>\n",
              "      <td>9.78014E+12</td>\n",
              "      <td>eng</td>\n",
              "      <td>415</td>\n",
              "      <td>820</td>\n",
              "      <td>95</td>\n",
              "      <td>08-01-1993</td>\n",
              "      <td>Penguin Books</td>\n",
              "      <td>NaN</td>\n",
              "    </tr>\n",
              "    <tr>\n",
              "      <th>11125</th>\n",
              "      <td>45639</td>\n",
              "      <td>Poor People</td>\n",
              "      <td>William T. Vollmann</td>\n",
              "      <td>3.72</td>\n",
              "      <td>60878827</td>\n",
              "      <td>9.78006E+12</td>\n",
              "      <td>eng</td>\n",
              "      <td>434</td>\n",
              "      <td>769</td>\n",
              "      <td>139</td>\n",
              "      <td>2/27/2007</td>\n",
              "      <td>Ecco</td>\n",
              "      <td>NaN</td>\n",
              "    </tr>\n",
              "    <tr>\n",
              "      <th>11126</th>\n",
              "      <td>45641</td>\n",
              "      <td>Las aventuras de Tom Sawyer</td>\n",
              "      <td>Mark Twain</td>\n",
              "      <td>3.91</td>\n",
              "      <td>8497646983</td>\n",
              "      <td>9.7885E+12</td>\n",
              "      <td>spa</td>\n",
              "      <td>272</td>\n",
              "      <td>113</td>\n",
              "      <td>12</td>\n",
              "      <td>5/28/2006</td>\n",
              "      <td>Edimat Libros</td>\n",
              "      <td>NaN</td>\n",
              "    </tr>\n",
              "  </tbody>\n",
              "</table>\n",
              "<p>11127 rows × 13 columns</p>\n",
              "</div>\n",
              "    <div class=\"colab-df-buttons\">\n",
              "\n",
              "  <div class=\"colab-df-container\">\n",
              "    <button class=\"colab-df-convert\" onclick=\"convertToInteractive('df-fc42722d-d87e-400c-a6ea-7574eee4b56e')\"\n",
              "            title=\"Convert this dataframe to an interactive table.\"\n",
              "            style=\"display:none;\">\n",
              "\n",
              "  <svg xmlns=\"http://www.w3.org/2000/svg\" height=\"24px\" viewBox=\"0 -960 960 960\">\n",
              "    <path d=\"M120-120v-720h720v720H120Zm60-500h600v-160H180v160Zm220 220h160v-160H400v160Zm0 220h160v-160H400v160ZM180-400h160v-160H180v160Zm440 0h160v-160H620v160ZM180-180h160v-160H180v160Zm440 0h160v-160H620v160Z\"/>\n",
              "  </svg>\n",
              "    </button>\n",
              "\n",
              "  <style>\n",
              "    .colab-df-container {\n",
              "      display:flex;\n",
              "      gap: 12px;\n",
              "    }\n",
              "\n",
              "    .colab-df-convert {\n",
              "      background-color: #E8F0FE;\n",
              "      border: none;\n",
              "      border-radius: 50%;\n",
              "      cursor: pointer;\n",
              "      display: none;\n",
              "      fill: #1967D2;\n",
              "      height: 32px;\n",
              "      padding: 0 0 0 0;\n",
              "      width: 32px;\n",
              "    }\n",
              "\n",
              "    .colab-df-convert:hover {\n",
              "      background-color: #E2EBFA;\n",
              "      box-shadow: 0px 1px 2px rgba(60, 64, 67, 0.3), 0px 1px 3px 1px rgba(60, 64, 67, 0.15);\n",
              "      fill: #174EA6;\n",
              "    }\n",
              "\n",
              "    .colab-df-buttons div {\n",
              "      margin-bottom: 4px;\n",
              "    }\n",
              "\n",
              "    [theme=dark] .colab-df-convert {\n",
              "      background-color: #3B4455;\n",
              "      fill: #D2E3FC;\n",
              "    }\n",
              "\n",
              "    [theme=dark] .colab-df-convert:hover {\n",
              "      background-color: #434B5C;\n",
              "      box-shadow: 0px 1px 3px 1px rgba(0, 0, 0, 0.15);\n",
              "      filter: drop-shadow(0px 1px 2px rgba(0, 0, 0, 0.3));\n",
              "      fill: #FFFFFF;\n",
              "    }\n",
              "  </style>\n",
              "\n",
              "    <script>\n",
              "      const buttonEl =\n",
              "        document.querySelector('#df-fc42722d-d87e-400c-a6ea-7574eee4b56e button.colab-df-convert');\n",
              "      buttonEl.style.display =\n",
              "        google.colab.kernel.accessAllowed ? 'block' : 'none';\n",
              "\n",
              "      async function convertToInteractive(key) {\n",
              "        const element = document.querySelector('#df-fc42722d-d87e-400c-a6ea-7574eee4b56e');\n",
              "        const dataTable =\n",
              "          await google.colab.kernel.invokeFunction('convertToInteractive',\n",
              "                                                    [key], {});\n",
              "        if (!dataTable) return;\n",
              "\n",
              "        const docLinkHtml = 'Like what you see? Visit the ' +\n",
              "          '<a target=\"_blank\" href=https://colab.research.google.com/notebooks/data_table.ipynb>data table notebook</a>'\n",
              "          + ' to learn more about interactive tables.';\n",
              "        element.innerHTML = '';\n",
              "        dataTable['output_type'] = 'display_data';\n",
              "        await google.colab.output.renderOutput(dataTable, element);\n",
              "        const docLink = document.createElement('div');\n",
              "        docLink.innerHTML = docLinkHtml;\n",
              "        element.appendChild(docLink);\n",
              "      }\n",
              "    </script>\n",
              "  </div>\n",
              "\n",
              "\n",
              "<div id=\"df-21273eb6-676b-4a0c-89be-e9c5e08f4ed4\">\n",
              "  <button class=\"colab-df-quickchart\" onclick=\"quickchart('df-21273eb6-676b-4a0c-89be-e9c5e08f4ed4')\"\n",
              "            title=\"Suggest charts\"\n",
              "            style=\"display:none;\">\n",
              "\n",
              "<svg xmlns=\"http://www.w3.org/2000/svg\" height=\"24px\"viewBox=\"0 0 24 24\"\n",
              "     width=\"24px\">\n",
              "    <g>\n",
              "        <path d=\"M19 3H5c-1.1 0-2 .9-2 2v14c0 1.1.9 2 2 2h14c1.1 0 2-.9 2-2V5c0-1.1-.9-2-2-2zM9 17H7v-7h2v7zm4 0h-2V7h2v10zm4 0h-2v-4h2v4z\"/>\n",
              "    </g>\n",
              "</svg>\n",
              "  </button>\n",
              "\n",
              "<style>\n",
              "  .colab-df-quickchart {\n",
              "      --bg-color: #E8F0FE;\n",
              "      --fill-color: #1967D2;\n",
              "      --hover-bg-color: #E2EBFA;\n",
              "      --hover-fill-color: #174EA6;\n",
              "      --disabled-fill-color: #AAA;\n",
              "      --disabled-bg-color: #DDD;\n",
              "  }\n",
              "\n",
              "  [theme=dark] .colab-df-quickchart {\n",
              "      --bg-color: #3B4455;\n",
              "      --fill-color: #D2E3FC;\n",
              "      --hover-bg-color: #434B5C;\n",
              "      --hover-fill-color: #FFFFFF;\n",
              "      --disabled-bg-color: #3B4455;\n",
              "      --disabled-fill-color: #666;\n",
              "  }\n",
              "\n",
              "  .colab-df-quickchart {\n",
              "    background-color: var(--bg-color);\n",
              "    border: none;\n",
              "    border-radius: 50%;\n",
              "    cursor: pointer;\n",
              "    display: none;\n",
              "    fill: var(--fill-color);\n",
              "    height: 32px;\n",
              "    padding: 0;\n",
              "    width: 32px;\n",
              "  }\n",
              "\n",
              "  .colab-df-quickchart:hover {\n",
              "    background-color: var(--hover-bg-color);\n",
              "    box-shadow: 0 1px 2px rgba(60, 64, 67, 0.3), 0 1px 3px 1px rgba(60, 64, 67, 0.15);\n",
              "    fill: var(--button-hover-fill-color);\n",
              "  }\n",
              "\n",
              "  .colab-df-quickchart-complete:disabled,\n",
              "  .colab-df-quickchart-complete:disabled:hover {\n",
              "    background-color: var(--disabled-bg-color);\n",
              "    fill: var(--disabled-fill-color);\n",
              "    box-shadow: none;\n",
              "  }\n",
              "\n",
              "  .colab-df-spinner {\n",
              "    border: 2px solid var(--fill-color);\n",
              "    border-color: transparent;\n",
              "    border-bottom-color: var(--fill-color);\n",
              "    animation:\n",
              "      spin 1s steps(1) infinite;\n",
              "  }\n",
              "\n",
              "  @keyframes spin {\n",
              "    0% {\n",
              "      border-color: transparent;\n",
              "      border-bottom-color: var(--fill-color);\n",
              "      border-left-color: var(--fill-color);\n",
              "    }\n",
              "    20% {\n",
              "      border-color: transparent;\n",
              "      border-left-color: var(--fill-color);\n",
              "      border-top-color: var(--fill-color);\n",
              "    }\n",
              "    30% {\n",
              "      border-color: transparent;\n",
              "      border-left-color: var(--fill-color);\n",
              "      border-top-color: var(--fill-color);\n",
              "      border-right-color: var(--fill-color);\n",
              "    }\n",
              "    40% {\n",
              "      border-color: transparent;\n",
              "      border-right-color: var(--fill-color);\n",
              "      border-top-color: var(--fill-color);\n",
              "    }\n",
              "    60% {\n",
              "      border-color: transparent;\n",
              "      border-right-color: var(--fill-color);\n",
              "    }\n",
              "    80% {\n",
              "      border-color: transparent;\n",
              "      border-right-color: var(--fill-color);\n",
              "      border-bottom-color: var(--fill-color);\n",
              "    }\n",
              "    90% {\n",
              "      border-color: transparent;\n",
              "      border-bottom-color: var(--fill-color);\n",
              "    }\n",
              "  }\n",
              "</style>\n",
              "\n",
              "  <script>\n",
              "    async function quickchart(key) {\n",
              "      const quickchartButtonEl =\n",
              "        document.querySelector('#' + key + ' button');\n",
              "      quickchartButtonEl.disabled = true;  // To prevent multiple clicks.\n",
              "      quickchartButtonEl.classList.add('colab-df-spinner');\n",
              "      try {\n",
              "        const charts = await google.colab.kernel.invokeFunction(\n",
              "            'suggestCharts', [key], {});\n",
              "      } catch (error) {\n",
              "        console.error('Error during call to suggestCharts:', error);\n",
              "      }\n",
              "      quickchartButtonEl.classList.remove('colab-df-spinner');\n",
              "      quickchartButtonEl.classList.add('colab-df-quickchart-complete');\n",
              "    }\n",
              "    (() => {\n",
              "      let quickchartButtonEl =\n",
              "        document.querySelector('#df-21273eb6-676b-4a0c-89be-e9c5e08f4ed4 button');\n",
              "      quickchartButtonEl.style.display =\n",
              "        google.colab.kernel.accessAllowed ? 'block' : 'none';\n",
              "    })();\n",
              "  </script>\n",
              "</div>\n",
              "\n",
              "  <div id=\"id_e05bbc5e-90cc-4688-96cb-0802073229b0\">\n",
              "    <style>\n",
              "      .colab-df-generate {\n",
              "        background-color: #E8F0FE;\n",
              "        border: none;\n",
              "        border-radius: 50%;\n",
              "        cursor: pointer;\n",
              "        display: none;\n",
              "        fill: #1967D2;\n",
              "        height: 32px;\n",
              "        padding: 0 0 0 0;\n",
              "        width: 32px;\n",
              "      }\n",
              "\n",
              "      .colab-df-generate:hover {\n",
              "        background-color: #E2EBFA;\n",
              "        box-shadow: 0px 1px 2px rgba(60, 64, 67, 0.3), 0px 1px 3px 1px rgba(60, 64, 67, 0.15);\n",
              "        fill: #174EA6;\n",
              "      }\n",
              "\n",
              "      [theme=dark] .colab-df-generate {\n",
              "        background-color: #3B4455;\n",
              "        fill: #D2E3FC;\n",
              "      }\n",
              "\n",
              "      [theme=dark] .colab-df-generate:hover {\n",
              "        background-color: #434B5C;\n",
              "        box-shadow: 0px 1px 3px 1px rgba(0, 0, 0, 0.15);\n",
              "        filter: drop-shadow(0px 1px 2px rgba(0, 0, 0, 0.3));\n",
              "        fill: #FFFFFF;\n",
              "      }\n",
              "    </style>\n",
              "    <button class=\"colab-df-generate\" onclick=\"generateWithVariable('ds')\"\n",
              "            title=\"Generate code using this dataframe.\"\n",
              "            style=\"display:none;\">\n",
              "\n",
              "  <svg xmlns=\"http://www.w3.org/2000/svg\" height=\"24px\"viewBox=\"0 0 24 24\"\n",
              "       width=\"24px\">\n",
              "    <path d=\"M7,19H8.4L18.45,9,17,7.55,7,17.6ZM5,21V16.75L18.45,3.32a2,2,0,0,1,2.83,0l1.4,1.43a1.91,1.91,0,0,1,.58,1.4,1.91,1.91,0,0,1-.58,1.4L9.25,21ZM18.45,9,17,7.55Zm-12,3A5.31,5.31,0,0,0,4.9,8.1,5.31,5.31,0,0,0,1,6.5,5.31,5.31,0,0,0,4.9,4.9,5.31,5.31,0,0,0,6.5,1,5.31,5.31,0,0,0,8.1,4.9,5.31,5.31,0,0,0,12,6.5,5.46,5.46,0,0,0,6.5,12Z\"/>\n",
              "  </svg>\n",
              "    </button>\n",
              "    <script>\n",
              "      (() => {\n",
              "      const buttonEl =\n",
              "        document.querySelector('#id_e05bbc5e-90cc-4688-96cb-0802073229b0 button.colab-df-generate');\n",
              "      buttonEl.style.display =\n",
              "        google.colab.kernel.accessAllowed ? 'block' : 'none';\n",
              "\n",
              "      buttonEl.onclick = () => {\n",
              "        google.colab.notebook.generateWithVariable('ds');\n",
              "      }\n",
              "      })();\n",
              "    </script>\n",
              "  </div>\n",
              "\n",
              "    </div>\n",
              "  </div>\n"
            ]
          },
          "metadata": {},
          "execution_count": 5
        }
      ],
      "source": [
        "ds=pd.read_csv('books.csv')\n",
        "ds"
      ]
    },
    {
      "cell_type": "code",
      "execution_count": null,
      "metadata": {
        "colab": {
          "base_uri": "https://localhost:8080/"
        },
        "id": "RXNzPn8f9L7M",
        "outputId": "f4443dba-31c7-4fd4-bc68-351d2ee07c44"
      },
      "outputs": [
        {
          "output_type": "stream",
          "name": "stdout",
          "text": [
            "<class 'pandas.core.frame.DataFrame'>\n",
            "RangeIndex: 11127 entries, 0 to 11126\n",
            "Data columns (total 13 columns):\n",
            " #   Column              Non-Null Count  Dtype \n",
            "---  ------              --------------  ----- \n",
            " 0   bookID              11127 non-null  int64 \n",
            " 1   title               11127 non-null  object\n",
            " 2   authors             11127 non-null  object\n",
            " 3   average_rating      11127 non-null  object\n",
            " 4   isbn                11127 non-null  object\n",
            " 5   isbn13              11127 non-null  object\n",
            " 6   language_code       11127 non-null  object\n",
            " 7     num_pages         11127 non-null  object\n",
            " 8   ratings_count       11127 non-null  int64 \n",
            " 9   text_reviews_count  11127 non-null  int64 \n",
            " 10  publication_date    11127 non-null  object\n",
            " 11  publisher           11127 non-null  object\n",
            " 12  Unnamed: 12         3 non-null      object\n",
            "dtypes: int64(3), object(10)\n",
            "memory usage: 1.1+ MB\n"
          ]
        }
      ],
      "source": [
        "ds.info()"
      ]
    },
    {
      "cell_type": "code",
      "execution_count": null,
      "metadata": {
        "colab": {
          "base_uri": "https://localhost:8080/"
        },
        "id": "VmIB0eWdKfZY",
        "outputId": "8c9832b2-8eb2-4583-a386-bda14fbbc96f"
      },
      "outputs": [
        {
          "data": {
            "text/plain": [
              "<bound method NDFrame.describe of        bookID                                              title  \\\n",
              "0           1  Harry Potter and the Half-Blood Prince (Harry ...   \n",
              "1           2  Harry Potter and the Order of the Phoenix (Har...   \n",
              "2           4  Harry Potter and the Chamber of Secrets (Harry...   \n",
              "3           5  Harry Potter and the Prisoner of Azkaban (Harr...   \n",
              "4           8  Harry Potter Boxed Set  Books 1-5 (Harry Potte...   \n",
              "...       ...                                                ...   \n",
              "11122   45631   Expelled from Eden: A William T. Vollmann Reader   \n",
              "11123   45633                        You Bright and Risen Angels   \n",
              "11124   45634                    The Ice-Shirt (Seven Dreams #1)   \n",
              "11125   45639                                        Poor People   \n",
              "11126   45641                        Las aventuras de Tom Sawyer   \n",
              "\n",
              "                                                 authors average_rating  \\\n",
              "0                             J.K. Rowling/Mary GrandPré           4.57   \n",
              "1                             J.K. Rowling/Mary GrandPré           4.49   \n",
              "2                                           J.K. Rowling           4.42   \n",
              "3                             J.K. Rowling/Mary GrandPré           4.56   \n",
              "4                             J.K. Rowling/Mary GrandPré           4.78   \n",
              "...                                                  ...            ...   \n",
              "11122  William T. Vollmann/Larry McCaffery/Michael He...           4.06   \n",
              "11123                                William T. Vollmann           4.08   \n",
              "11124                                William T. Vollmann           3.96   \n",
              "11125                                William T. Vollmann           3.72   \n",
              "11126                                         Mark Twain           3.91   \n",
              "\n",
              "             isbn       isbn13 language_code   num_pages  ratings_count  \\\n",
              "0       439785960  9.78044E+12           eng         652        2095690   \n",
              "1       439358078  9.78044E+12           eng         870        2153167   \n",
              "2       439554896  9.78044E+12           eng         352           6333   \n",
              "3      043965548X  9.78044E+12           eng         435        2339585   \n",
              "4       439682584  9.78044E+12           eng        2690          41428   \n",
              "...           ...          ...           ...         ...            ...   \n",
              "11122  1560254416  9.78156E+12           eng         512            156   \n",
              "11123   140110879  9.78014E+12           eng         635            783   \n",
              "11124   140131965  9.78014E+12           eng         415            820   \n",
              "11125    60878827  9.78006E+12           eng         434            769   \n",
              "11126  8497646983   9.7885E+12           spa         272            113   \n",
              "\n",
              "       text_reviews_count publication_date        publisher Unnamed: 12  \n",
              "0                   27591        9/16/2006  Scholastic Inc.         NaN  \n",
              "1                   29221       09-01-2004  Scholastic Inc.         NaN  \n",
              "2                     244       11-01-2003       Scholastic         NaN  \n",
              "3                   36325       05-01-2004  Scholastic Inc.         NaN  \n",
              "4                     164        9/13/2004       Scholastic         NaN  \n",
              "...                   ...              ...              ...         ...  \n",
              "11122                  20       12/21/2004    Da Capo Press         NaN  \n",
              "11123                  56       12-01-1988    Penguin Books         NaN  \n",
              "11124                  95       08-01-1993    Penguin Books         NaN  \n",
              "11125                 139        2/27/2007             Ecco         NaN  \n",
              "11126                  12        5/28/2006    Edimat Libros         NaN  \n",
              "\n",
              "[11127 rows x 13 columns]>"
            ]
          },
          "execution_count": 6,
          "metadata": {},
          "output_type": "execute_result"
        }
      ],
      "source": [
        "ds.describe"
      ]
    },
    {
      "cell_type": "code",
      "execution_count": null,
      "metadata": {
        "colab": {
          "base_uri": "https://localhost:8080/"
        },
        "id": "3_3X6ydBKj82",
        "outputId": "daf1a28a-80ff-4073-94a4-7c1f79f5eb33"
      },
      "outputs": [
        {
          "data": {
            "text/plain": [
              "array([[1, 'Harry Potter and the Half-Blood Prince (Harry Potter  #6)',\n",
              "        'J.K. Rowling/Mary GrandPré', ..., '9/16/2006',\n",
              "        'Scholastic Inc.', nan],\n",
              "       [2,\n",
              "        'Harry Potter and the Order of the Phoenix (Harry Potter  #5)',\n",
              "        'J.K. Rowling/Mary GrandPré', ..., '09-01-2004',\n",
              "        'Scholastic Inc.', nan],\n",
              "       [4, 'Harry Potter and the Chamber of Secrets (Harry Potter  #2)',\n",
              "        'J.K. Rowling', ..., '11-01-2003', 'Scholastic', nan],\n",
              "       ...,\n",
              "       [45634, 'The Ice-Shirt (Seven Dreams #1)', 'William T. Vollmann',\n",
              "        ..., '08-01-1993', 'Penguin Books', nan],\n",
              "       [45639, 'Poor People', 'William T. Vollmann', ..., '2/27/2007',\n",
              "        'Ecco', nan],\n",
              "       [45641, 'Las aventuras de Tom Sawyer', 'Mark Twain', ...,\n",
              "        '5/28/2006', 'Edimat Libros', nan]], dtype=object)"
            ]
          },
          "execution_count": 7,
          "metadata": {},
          "output_type": "execute_result"
        }
      ],
      "source": [
        "ds.values"
      ]
    },
    {
      "cell_type": "code",
      "execution_count": null,
      "metadata": {
        "id": "lfyonP1gKopL"
      },
      "outputs": [],
      "source": [
        "ds.columns"
      ]
    },
    {
      "cell_type": "code",
      "execution_count": null,
      "metadata": {
        "id": "IU8B_fhbKsHW"
      },
      "outputs": [],
      "source": [
        "ds.index"
      ]
    },
    {
      "cell_type": "code",
      "execution_count": null,
      "metadata": {
        "id": "7oiuicu09RJG"
      },
      "outputs": [],
      "source": [
        "dsar=ds.sort_values('text_reviews_count')\n",
        "print(dsar)\n",
        "dsar2=dsar[ds['text_reviews_count']>=4000]\n",
        "dsar2"
      ]
    },
    {
      "cell_type": "code",
      "execution_count": null,
      "metadata": {
        "id": "9uJkFFuSJh7s"
      },
      "outputs": [],
      "source": [
        "ds.shape"
      ]
    },
    {
      "cell_type": "code",
      "execution_count": null,
      "metadata": {
        "id": "oIOXftdXKMSe"
      },
      "outputs": [],
      "source": [
        "ds.iloc[10000:10500]"
      ]
    },
    {
      "cell_type": "code",
      "execution_count": null,
      "metadata": {
        "id": "C0bxnHm5K2rF"
      },
      "outputs": [],
      "source": [
        "ds.head(100)"
      ]
    },
    {
      "cell_type": "code",
      "execution_count": null,
      "metadata": {
        "id": "FLFXO3_CK6Bd"
      },
      "outputs": [],
      "source": [
        "ds.tail(10)"
      ]
    },
    {
      "cell_type": "code",
      "execution_count": null,
      "metadata": {
        "id": "UMwhVRkdG75B"
      },
      "outputs": [],
      "source": [
        "dsrc=ds.sort_values('ratings_count')\n",
        "rc=dsrc[ds['ratings_count']>=250000]\n",
        "rc"
      ]
    },
    {
      "cell_type": "code",
      "execution_count": null,
      "metadata": {
        "id": "UiKT-4yHHXvD"
      },
      "outputs": [],
      "source": [
        "dsp=ds.sort_values('publisher')\n",
        "p=dsp[ds['publisher']=='Broadway Books']\n",
        "p"
      ]
    },
    {
      "cell_type": "code",
      "execution_count": null,
      "metadata": {
        "id": "qFK1y3LRHX8G"
      },
      "outputs": [],
      "source": [
        "ar=[ds['average_rating'] ,ds['authors']=='Bill Bryson']\n",
        "ar"
      ]
    },
    {
      "cell_type": "code",
      "execution_count": null,
      "metadata": {
        "id": "1yCxuI7HInKr"
      },
      "outputs": [],
      "source": [
        "isb=ds.sort_values('isbn')\n",
        "isb"
      ]
    },
    {
      "cell_type": "code",
      "execution_count": null,
      "metadata": {
        "id": "Qgb--c5cI-bB"
      },
      "outputs": [],
      "source": [
        "dsp1=ds[ds['publisher']=='Farrar  Straus and Giroux']\n",
        "dsp1\n",
        "n1=dsp1.sort_values('isbn13')\n",
        "n1"
      ]
    },
    {
      "cell_type": "code",
      "execution_count": null,
      "metadata": {
        "id": "C7EoQQ0rJsUG"
      },
      "outputs": [],
      "source": [
        "m=ds[['bookID','title']]\n",
        "m"
      ]
    },
    {
      "cell_type": "markdown",
      "metadata": {
        "id": "zcVqKdyYyvSt"
      },
      "source": [
        "**SEABORN AND MATPLOT**"
      ]
    },
    {
      "cell_type": "code",
      "execution_count": null,
      "metadata": {
        "id": "RPKyJOUVVokr"
      },
      "outputs": [],
      "source": [
        "plt.rcParams[\"figure.figsize\"] = (25, 10)\n",
        "res=sns.lineplot(x='bookID',y='ratings_count',data=ds)\n",
        "plt.xlabel('Book ID')\n",
        "plt.ylabel('Ratings Count')"
      ]
    },
    {
      "cell_type": "code",
      "execution_count": null,
      "metadata": {
        "id": "jgAuRINCWnfR"
      },
      "outputs": [],
      "source": [
        "plt.rcParams[\"figure.figsize\"] = (25, 10)\n",
        "\n",
        "xy = {'Language Code': ds['language_code'] ,\n",
        "                 'Rating Count': ds['ratings_count']}\n",
        "ab=pd.DataFrame(xy)\n",
        "sns.scatterplot(data=xy,x='Language Code',y='Rating Count')\n",
        "plt.xlabel('Language Code',fontsize=10)\n",
        "plt.ylabel('Rating Count',fontsize=10)\n",
        "plt.title('SCATTER PLOT',fontsize=15)"
      ]
    },
    {
      "cell_type": "code",
      "execution_count": null,
      "metadata": {
        "id": "G2a6YpeMWw_D"
      },
      "outputs": [],
      "source": [
        "sns.barplot(data= ab , x='Language Code', y='Rating Count')\n",
        "plt.title('BAR PLOT',fontsize=15)"
      ]
    },
    {
      "cell_type": "code",
      "execution_count": null,
      "metadata": {
        "id": "Y-FncMV5W5lS"
      },
      "outputs": [],
      "source": [
        "sns.lineplot(data= ab , x='Language Code', y='Rating Count',ci=None)\n",
        "plt.title('LINE PLOT',fontsize=15)"
      ]
    },
    {
      "cell_type": "code",
      "execution_count": null,
      "metadata": {
        "id": "jNO9cMqNW-0T"
      },
      "outputs": [],
      "source": [
        "sns.histplot(data= ab , x='Language Code', y='Rating Count',color='purple')\n",
        "plt.title('HIST PLOT',fontsize=15)"
      ]
    },
    {
      "cell_type": "code",
      "execution_count": null,
      "metadata": {
        "id": "kJ2rVdfdXGAw"
      },
      "outputs": [],
      "source": [
        "sns.boxplot(data= ab , x='Language Code', y='Rating Count')\n",
        "plt.title('BOX PLOT',fontsize=15)"
      ]
    },
    {
      "cell_type": "code",
      "execution_count": null,
      "metadata": {
        "id": "--SCZ1AMXQob"
      },
      "outputs": [],
      "source": [
        "res = sns.catplot(x=\"bookID\", y=\"language_code\", data=ds)"
      ]
    },
    {
      "cell_type": "code",
      "execution_count": null,
      "metadata": {
        "id": "bWLpI8-AXdXC"
      },
      "outputs": [],
      "source": [
        "res = sns.swarmplot(x=\"language_code\", y=\"bookID\", data=ds)"
      ]
    },
    {
      "cell_type": "code",
      "execution_count": null,
      "metadata": {
        "id": "7gUlj4k6aiT8"
      },
      "outputs": [],
      "source": [
        "res = sns.violinplot(x=ds['bookID'])"
      ]
    },
    {
      "cell_type": "code",
      "execution_count": null,
      "metadata": {
        "id": "10tLi8VNanC5"
      },
      "outputs": [],
      "source": [
        "res = sns.stripplot(x=\"bookID\", y=\"language_code\", data=ds,jitter=0.08)"
      ]
    },
    {
      "cell_type": "code",
      "execution_count": null,
      "metadata": {
        "id": "tiXhWNukanOd"
      },
      "outputs": [],
      "source": [
        "sns.lmplot(x = 'bookID' , y ='ratings_count', data = ds , hue='language_code')"
      ]
    }
  ],
  "metadata": {
    "colab": {
      "provenance": []
    },
    "kernelspec": {
      "display_name": "Python 3",
      "name": "python3"
    },
    "language_info": {
      "name": "python"
    }
  },
  "nbformat": 4,
  "nbformat_minor": 0
}